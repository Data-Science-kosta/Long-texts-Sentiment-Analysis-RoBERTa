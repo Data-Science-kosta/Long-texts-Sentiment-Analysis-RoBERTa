{
  "nbformat": 4,
  "nbformat_minor": 0,
  "metadata": {
    "colab": {
      "name": "SentimentAnalysisMR.ipynb",
      "provenance": [],
      "collapsed_sections": [
        "FcnSO7Nk2I4N"
      ],
      "toc_visible": true
    },
    "kernelspec": {
      "display_name": "Python 3",
      "name": "python3"
    }
  },
  "cells": [
    {
      "cell_type": "markdown",
      "metadata": {
        "id": "5bpoxTVMiiL0"
      },
      "source": [
        "# Sentiment Analysis of Movie Reviews"
      ]
    },
    {
      "cell_type": "markdown",
      "metadata": {
        "id": "o9GKTaNcmCXV"
      },
      "source": [
        "Pytorch implementation of Sentiment Analysis of long textual movie reviews written in Serbian language (which is underused language) using pretrained multinigual Roberta based language model [XLM-R](https://ai.facebook.com/blog/-xlm-r-state-of-the-art-cross-lingual-understanding-through-self-supervision/). Dataset is balanced and it consits of 1684 **positive** and **negative** reviews, and it can be found [here](https://github.com/vukbatanovic/SerbMR). This balanced dataset is a subset of unbalanced set of 4725 movie reviews. Reviews have scoring metric which ranges from 1 to 10. Scores from 1-4 are treated as negative, 5-6 as neutral and 7-10 as positive. So some reviews have very weak sentiment and are very hard to classify correctly even by humans. "
      ]
    },
    {
      "cell_type": "markdown",
      "metadata": {
        "id": "tpZfasoQiGin"
      },
      "source": [
        "## Connect to google drive"
      ]
    },
    {
      "cell_type": "markdown",
      "metadata": {
        "id": "4QcZVaOvpeBw"
      },
      "source": [
        "Connect to Google Drive so that you can read the data and save checkpoints."
      ]
    },
    {
      "cell_type": "code",
      "metadata": {
        "id": "iKFzRs3-NDkL",
        "colab": {
          "base_uri": "https://localhost:8080/"
        },
        "outputId": "7d99dce9-58b2-4b94-a56a-bb94f58e9de5"
      },
      "source": [
        "from google.colab import drive\r\n",
        "drive.mount('/content/google_drive')"
      ],
      "execution_count": null,
      "outputs": [
        {
          "output_type": "stream",
          "text": [
            "Mounted at /content/google_drive\n"
          ],
          "name": "stdout"
        }
      ]
    },
    {
      "cell_type": "markdown",
      "metadata": {
        "id": "9A2AYxVhiEOA"
      },
      "source": [
        "Change to directory where the notebook is located in the drive"
      ]
    },
    {
      "cell_type": "code",
      "metadata": {
        "id": "YHgYX8AmNQLT"
      },
      "source": [
        "%cd /content/google_drive/MyDrive/Colab\\ Notebooks/Sentiment-Analysis-Roberta\r\n",
        "%ls"
      ],
      "execution_count": null,
      "outputs": []
    },
    {
      "cell_type": "markdown",
      "metadata": {
        "id": "1I_JI-p6dtGh"
      },
      "source": [
        "## Load the data"
      ]
    },
    {
      "cell_type": "code",
      "metadata": {
        "id": "WBs1g4CUbCJR",
        "colab": {
          "base_uri": "https://localhost:8080/",
          "height": 204
        },
        "outputId": "15bad5ce-fb82-40c0-9b70-ea4f0335c677"
      },
      "source": [
        "import os\r\n",
        "import pandas as pd\r\n",
        "import numpy as np\r\n",
        "import matplotlib.pyplot as plt\r\n",
        "\r\n",
        "data_path = os.path.join(os.getcwd(),'data')\r\n",
        "movies_path = os.path.join(data_path,'Movie-Reviews')\r\n",
        "df = pd.read_csv(os.path.join(movies_path,'SerbMR-2C.csv'))\r\n",
        "df.rename(columns={'class-att':'Label'},inplace=True)\r\n",
        "df.head()"
      ],
      "execution_count": null,
      "outputs": [
        {
          "output_type": "execute_result",
          "data": {
            "text/html": [
              "<div>\n",
              "<style scoped>\n",
              "    .dataframe tbody tr th:only-of-type {\n",
              "        vertical-align: middle;\n",
              "    }\n",
              "\n",
              "    .dataframe tbody tr th {\n",
              "        vertical-align: top;\n",
              "    }\n",
              "\n",
              "    .dataframe thead th {\n",
              "        text-align: right;\n",
              "    }\n",
              "</style>\n",
              "<table border=\"1\" class=\"dataframe\">\n",
              "  <thead>\n",
              "    <tr style=\"text-align: right;\">\n",
              "      <th></th>\n",
              "      <th>Text</th>\n",
              "      <th>Label</th>\n",
              "    </tr>\n",
              "  </thead>\n",
              "  <tbody>\n",
              "    <tr>\n",
              "      <th>0</th>\n",
              "      <td>Braća Koen (Coen brothers) iako poznati po tri...</td>\n",
              "      <td>POSITIVE</td>\n",
              "    </tr>\n",
              "    <tr>\n",
              "      <th>1</th>\n",
              "      <td>Često upadam u veliku raspravu kada se izjasni...</td>\n",
              "      <td>POSITIVE</td>\n",
              "    </tr>\n",
              "    <tr>\n",
              "      <th>2</th>\n",
              "      <td>“Ulični Psi” je jedan od onih filmova koji sve...</td>\n",
              "      <td>POSITIVE</td>\n",
              "    </tr>\n",
              "    <tr>\n",
              "      <th>3</th>\n",
              "      <td>Užasno potcenjen film! Predvođen dvojicom najp...</td>\n",
              "      <td>POSITIVE</td>\n",
              "    </tr>\n",
              "    <tr>\n",
              "      <th>4</th>\n",
              "      <td>Naprosto sam oduševljen ovim projektom, ovo je...</td>\n",
              "      <td>POSITIVE</td>\n",
              "    </tr>\n",
              "  </tbody>\n",
              "</table>\n",
              "</div>"
            ],
            "text/plain": [
              "                                                Text     Label\n",
              "0  Braća Koen (Coen brothers) iako poznati po tri...  POSITIVE\n",
              "1  Često upadam u veliku raspravu kada se izjasni...  POSITIVE\n",
              "2  “Ulični Psi” je jedan od onih filmova koji sve...  POSITIVE\n",
              "3  Užasno potcenjen film! Predvođen dvojicom najp...  POSITIVE\n",
              "4  Naprosto sam oduševljen ovim projektom, ovo je...  POSITIVE"
            ]
          },
          "metadata": {
            "tags": []
          },
          "execution_count": 3
        }
      ]
    },
    {
      "cell_type": "markdown",
      "metadata": {
        "id": "E-scUM6-5MO4"
      },
      "source": [
        "Example of a movie review"
      ]
    },
    {
      "cell_type": "code",
      "metadata": {
        "colab": {
          "base_uri": "https://localhost:8080/"
        },
        "id": "3cssUfUI5-bM",
        "outputId": "633af3e4-eedb-467b-80f0-dc94c8434079"
      },
      "source": [
        "EXAMPLE_NUM =   0#@param {type: 'integer'}\r\n",
        "[print(x+'.') for x in df.Text.iloc[EXAMPLE_NUM].split('.')]\r\n",
        "print('')"
      ],
      "execution_count": null,
      "outputs": [
        {
          "output_type": "stream",
          "text": [
            "Braća Koen (Coen brothers) iako poznati po trilerima, oprobali su se više puta i u komedija, i postigli potpuni uspeh.\n",
            " Ovaj film, pošto je kada se pojavio bio vrlo loše prihvaćen, nije nažalost uspeo da zablista po američkim bioskopima, ali je zato bio prava senzacija kad se pojavio na DVD-u i na osnovu toga, postao jedan od glavnih naslova u kolekciji svakog pravog filmofila.\n",
            " „The Big Lebowski“ definitvno moj omiljeni film i jedino ostvarenje koje zaista uvek iznova i iznova mogu da gledam.\n",
            " On predstavlja odu životnom stilu jednog pacifiste.\n",
            " „The Big Lewbowski“ je klasična priča prevare, kriminala i spletkarenja viđena kroz oči skromnog čoveka, tačnije jednostavne individue sa vrlo malo prohteva, želja i ambicija.\n",
            " Žanr ovog filma nije lako odrediti – može se reći da je komedija zbog svog izuzetno originalnog humorističkog sadržaja.\n",
            " Bogat fantastičnim likovima i još boljim dijalozima, koji iako su se transformisali u besmrtne citate koji se koriste u svakodnevnom životu, „The Big Lebowski“ i pored ovih sada već navedenih segmenata ima još toliko mnogo toga da ponudi.\n",
            " Gluma u ovom filmu je zaista neponovljiva.\n",
            " Definitvni vrh karijere za Džefa Bridžesa (Jeff Bridges) i Džona Gudmana (John Goodman).\n",
            " Iako su obojica vrhunska klasa glumaca, sa izvanrednim karijerama, nikada nisu uspeli da se udalje od ovih kultnih likova, a otuda i Bridžesu nadimak koji ga prati već deceniju i pratiće ga ceo život – The Dude.\n",
            " Cela glumačka ekipa je izuzetnog kvaliteta.\n",
            " Tu stoje još imena kao što su Stiv Bušemi (Steve Buscemi), Džon Torturo (John Turturro), Džulijana Mur (Julianne Moore) i Filip Sejmur Hofman (Philip Seymour Hoffman).\n",
            " Svako je zaista uradio i više što se od njih moglo očekivati, a pogotovo Torturo koje je ovde stvario jednog od najzabavnijih epizodnih likova u svim filmovima ikada.\n",
            " Po mom mišljenju, „The Big Lebowski“ je jedno od najvećih dostignuća u modernoj kinematografiji.\n",
            " Ovaj projekat će vas nasmejati, zbuniti i zadiviti, i on se sa razlogom smatra za jednu od najcenjenijih komedija od strane većine kritičara.\n",
            ".\n",
            "\n"
          ],
          "name": "stdout"
        }
      ]
    },
    {
      "cell_type": "markdown",
      "metadata": {
        "id": "sI_9x0jYqOh1"
      },
      "source": [
        "##  Split into train, test and val set"
      ]
    },
    {
      "cell_type": "markdown",
      "metadata": {
        "id": "luNZItzZ4yfF"
      },
      "source": [
        "Ratio: (80%-10%-10%) - (train - val - test)"
      ]
    },
    {
      "cell_type": "code",
      "metadata": {
        "id": "TkrH-vN-gL7a"
      },
      "source": [
        "def split_df(df):\r\n",
        "    n_rows = len(df)\r\n",
        "    ind = np.random.permutation(n_rows)\r\n",
        "    df = df.iloc[ind,:]\r\n",
        "    df_train = df.iloc[:int(0.8*n_rows),:]\r\n",
        "    df_val = df.iloc[int(0.8*n_rows):int(0.9*n_rows),:]\r\n",
        "    df_test = df.iloc[int(0.9*n_rows):,:]\r\n",
        "\r\n",
        "    return df_train, df_val, df_test"
      ],
      "execution_count": null,
      "outputs": []
    },
    {
      "cell_type": "code",
      "metadata": {
        "colab": {
          "base_uri": "https://localhost:8080/"
        },
        "id": "56nLjaCUd13B",
        "outputId": "5e2d8567-ced8-4430-9b51-b709c547ee82"
      },
      "source": [
        "n_rows = len(df)\r\n",
        "dfs_train, dfs_val, dfs_test = [],[],[]\r\n",
        "gb = df.groupby('Label')\r\n",
        "for x in gb.groups:\r\n",
        "    group = gb.get_group(x)\r\n",
        "    df_train, df_val, df_test = split_df(group)\r\n",
        "    dfs_train.append(df_train)\r\n",
        "    dfs_val.append(df_val)\r\n",
        "    dfs_test.append(df_test) \r\n",
        "df_train = pd.concat(dfs_train, ignore_index=True)\r\n",
        "ind = np.random.permutation(len(df_train))\r\n",
        "df_train = df_train.iloc[ind,:]\r\n",
        "df_val = pd.concat(dfs_val, ignore_index=True)\r\n",
        "ind = np.random.permutation(len(df_val))\r\n",
        "df_val = df_val.iloc[ind,:]\r\n",
        "df_test = pd.concat(dfs_test, ignore_index=True)\r\n",
        "ind = np.random.permutation(len(df_test))\r\n",
        "df_test = df_test.iloc[ind,:]\r\n",
        "print(f'Number of training examples: {len(df_train)}')\r\n",
        "print(f'Number of validation examples: {len(df_val)}')\r\n",
        "print(f'Number of test examples: {len(df_test)}')"
      ],
      "execution_count": null,
      "outputs": [
        {
          "output_type": "stream",
          "text": [
            "Number of training examples: 1344\n",
            "Number of validation examples: 168\n",
            "Number of test examples: 170\n"
          ],
          "name": "stdout"
        }
      ]
    },
    {
      "cell_type": "code",
      "metadata": {
        "colab": {
          "base_uri": "https://localhost:8080/",
          "height": 245
        },
        "id": "D76T7DAqcG-2",
        "outputId": "52f5aac8-5afa-4a9f-906f-cfb926f443ec"
      },
      "source": [
        "fig = plt.figure(figsize=(18,4))\r\n",
        "titles = ['Train set','Test set','Val set']\r\n",
        "for i,dataf in enumerate([df_train,df_test,df_val]):\r\n",
        "    ax = fig.add_subplot(1,3,i+1)\r\n",
        "    Y, labels = pd.factorize(dataf['Label'])\r\n",
        "    ax.bar(labels, height=pd.Series(Y).value_counts())\r\n",
        "    ax.set_xticks(ticks=range(len(labels)))\r\n",
        "    ax.set_xticklabels(labels,fontsize=10)\r\n",
        "    ax.set_xlabel('Review')\r\n",
        "    ax.set_ylabel('Number of examples')\r\n",
        "    ax.set_title(titles[i])"
      ],
      "execution_count": null,
      "outputs": [
        {
          "output_type": "display_data",
          "data": {
            "image/png": "[encoded data removed]",
            "text/plain": [
              "<Figure size 1296x288 with 3 Axes>"
            ]
          },
          "metadata": {
            "tags": []
          }
        }
      ]
    },
    {
      "cell_type": "markdown",
      "metadata": {
        "id": "FDb91FO6upLb"
      },
      "source": [
        "## Load XLM-R model"
      ]
    },
    {
      "cell_type": "markdown",
      "metadata": {
        "id": "9-WDMS9L8mJq"
      },
      "source": [
        "Since the Facebook researchers are the creators of the model, the model can be found in fairseq package. So we need to install dependencies for fairseq and download the model from pytorch hub. We also need to install transformer package, because we will be using advanced optimizers and learning rate schedulers."
      ]
    },
    {
      "cell_type": "code",
      "metadata": {
        "id": "rh7r0_SE8cXJ"
      },
      "source": [
        "%pip install hydra-core\r\n",
        "%pip install omegaconf\r\n",
        "%pip install sentencepiece\r\n",
        "%pip install transformers"
      ],
      "execution_count": null,
      "outputs": []
    },
    {
      "cell_type": "markdown",
      "metadata": {
        "id": "8RUKzgar_lIw"
      },
      "source": [
        "Load XLM-R model and sentencepiece tokenizer"
      ]
    },
    {
      "cell_type": "code",
      "metadata": {
        "id": "oRDEIlh2usDI"
      },
      "source": [
        "import torch\r\n",
        "from torch.utils.data import Dataset, DataLoader\r\n",
        "import torch.nn as nn\r\n",
        "from statistics import mean\r\n",
        "import pickle\r\n",
        "from transformers import XLMRobertaTokenizer, AdamW, get_linear_schedule_with_warmup\r\n",
        "from torch.optim import SGD"
      ],
      "execution_count": null,
      "outputs": []
    },
    {
      "cell_type": "markdown",
      "metadata": {
        "id": "RTEACFRwa2yg"
      },
      "source": [
        "BASE (2 times smaller than large)\r\n"
      ]
    },
    {
      "cell_type": "code",
      "metadata": {
        "id": "0sHT_T1Ja5o1"
      },
      "source": [
        "xlmr = torch.hub.load('pytorch/fairseq', 'xlmr.base')\r\n",
        "tokenizer = XLMRobertaTokenizer.from_pretrained(\"xlm-roberta-base\")"
      ],
      "execution_count": null,
      "outputs": []
    },
    {
      "cell_type": "markdown",
      "metadata": {
        "id": "X85GNtTsQlxD"
      },
      "source": [
        "Wrap tokenizer by specifing its hyperparametrs"
      ]
    },
    {
      "cell_type": "code",
      "metadata": {
        "id": "qVgLkRlGNjPj"
      },
      "source": [
        "def wrap_tokenizer(tokenizer, padding=True, truncation=True, return_tensors='pt', max_length=None):\r\n",
        "    def tokenize(text):\r\n",
        "        text = list(text)\r\n",
        "        tokens = tokenizer(\r\n",
        "            text,\r\n",
        "            padding=padding, \r\n",
        "            return_attention_mask=False,\r\n",
        "            truncation=truncation,\r\n",
        "            max_length=max_length,\r\n",
        "            return_tensors=return_tensors\r\n",
        "            )['input_ids']\r\n",
        "        return tokens\r\n",
        "    return tokenize"
      ],
      "execution_count": null,
      "outputs": []
    },
    {
      "cell_type": "markdown",
      "metadata": {
        "id": "Rx97ed3FYCJA"
      },
      "source": [
        "## Determine the distribution of number of tokens of texts"
      ]
    },
    {
      "cell_type": "markdown",
      "metadata": {
        "id": "EPx8eVP1rr0m"
      },
      "source": [
        "Since we are dealing with large texts which probably can not fit into the XLM-R model (which is around 512), so we will examine the distribution of number of tokens of texts to see how we can split the text to fit into our model."
      ]
    },
    {
      "cell_type": "code",
      "metadata": {
        "id": "2j6jsaVMXpvo",
        "colab": {
          "base_uri": "https://localhost:8080/",
          "height": 590
        },
        "outputId": "003ec42c-846c-41d0-cc62-117f9187d471"
      },
      "source": [
        "import matplotlib.pyplot as plt\r\n",
        "import seaborn as sns\r\n",
        "\r\n",
        "tokenize = wrap_tokenizer(tokenizer, padding=False, truncation = False, return_tensors=None)\r\n",
        "tokens = tokenize(df['Text'])\r\n",
        "num_tokens = [len(x) for x in tokens]\r\n",
        "# Plot histogram with the length. Truncate max length to 5000 tokens.\r\n",
        "plt.style.use(\"ggplot\")\r\n",
        "plt.figure(figsize=(10, 8))\r\n",
        "df['length'] = pd.Series(num_tokens)\r\n",
        "sns.distplot(df['length'])\r\n",
        "plt.title('Frequence of text of a given token length', fontsize=14)\r\n",
        "plt.xlabel('token length', fontsize=14)\r\n",
        "plt.axvline(x=512,linewidth=4,color='black')\r\n",
        "plt.axvline(x=2*512,linewidth=4,color='green')\r\n",
        "plt.axvline(x=3*512,linewidth=4,color='blue')\r\n",
        "plt.axvline(x=4*512,linewidth=4,color='yellow')\r\n",
        "plt.axvline(x=5*512,linewidth=4,color='purple')\r\n",
        "plt.legend(['freq','max_tokens','2*max_tokens','3*max_tokens','4*max_tokens','5*max_tokens'])"
      ],
      "execution_count": null,
      "outputs": [
        {
          "output_type": "stream",
          "text": [
            "/usr/local/lib/python3.6/dist-packages/seaborn/distributions.py:2557: FutureWarning: `distplot` is a deprecated function and will be removed in a future version. Please adapt your code to use either `displot` (a figure-level function with similar flexibility) or `histplot` (an axes-level function for histograms).\n",
            "  warnings.warn(msg, FutureWarning)\n"
          ],
          "name": "stderr"
        },
        {
          "output_type": "execute_result",
          "data": {
            "text/plain": [
              "<matplotlib.legend.Legend at 0x7ff1fe6d8d30>"
            ]
          },
          "metadata": {
            "tags": []
          },
          "execution_count": 47
        },
        {
          "output_type": "display_data",
          "data": {
            "image/png": "[encoded data removed]",
            "text/plain": [
              "<Figure size 720x576 with 1 Axes>"
            ]
          },
          "metadata": {
            "tags": []
          }
        }
      ]
    },
    {
      "cell_type": "code",
      "metadata": {
        "id": "wvymaabjY5U8",
        "colab": {
          "base_uri": "https://localhost:8080/"
        },
        "outputId": "4a3e7f2e-4bcd-4e6d-f7d8-afb3cf152b96"
      },
      "source": [
        "max_tokens = 512 # 512\r\n",
        "for i in range(1,6):\r\n",
        "    num = sum(df['length']>i*max_tokens)\r\n",
        "    print(f\"Number of text that have more than {i}*max_tokens is {num}\")"
      ],
      "execution_count": null,
      "outputs": [
        {
          "output_type": "stream",
          "text": [
            "Number of text that have more than 1*max_tokens is 1355\n",
            "Number of text that have more than 2*max_tokens is 320\n",
            "Number of text that have more than 3*max_tokens is 62\n",
            "Number of text that have more than 4*max_tokens is 13\n",
            "Number of text that have more than 5*max_tokens is 5\n"
          ],
          "name": "stdout"
        }
      ]
    },
    {
      "cell_type": "markdown",
      "metadata": {
        "id": "8Iad9GhpZ5CM"
      },
      "source": [
        "We can see that 1355 examples out of 1682 would not fit into our model. So we will need to split the text into multiple chunks and input each chunk separately through the model. After we get the vector representations of context of each chunk we will join them into one with LSTM layer (there are various ways to do this, for example the easiest way would be to perform sum or average pooling on the contexts). I have chosen the LSTM out of learning purposes."
      ]
    },
    {
      "cell_type": "code",
      "metadata": {
        "id": "ye1h5R0d86W7"
      },
      "source": [
        "def get_text_split(text, length=200, overlap=50, max_chunks=4):\r\n",
        "    l_total = []\r\n",
        "    l_parcial = []\r\n",
        "    n_words = len(text.split()) \r\n",
        "    n = n_words//(length-overlap)+1 # n is number of splits\r\n",
        "    if n_words % (length-overlap) == 0:\r\n",
        "        n = n-1\r\n",
        "    if n ==0:\r\n",
        "        n = 1\r\n",
        "    n = min(n, max_chunks)\r\n",
        "    for w in range(n):\r\n",
        "        if w == 0:\r\n",
        "            l_parcial = text.split()[:length]\r\n",
        "        else:\r\n",
        "            l_parcial = text.split()[w*(length-overlap):w*(length-overlap) + length]\r\n",
        "        l = \" \".join(l_parcial)\r\n",
        "        if w==n-1:\r\n",
        "            if len(l_parcial) < 0.75*length and n!=1: # keep the last if it has 75% of length\r\n",
        "                continue\r\n",
        "        l_total.append(l)\r\n",
        "    return l_total"
      ],
      "execution_count": null,
      "outputs": []
    },
    {
      "cell_type": "code",
      "metadata": {
        "id": "lwV6ZloGMB7_"
      },
      "source": [
        "df_train.Text = df_train.Text.apply(lambda x: get_text_split(x))\r\n",
        "df_val.Text = df_val.Text.apply(lambda x: get_text_split(x))\r\n",
        "df_test.Text = df_test.Text.apply(lambda x: get_text_split(x))"
      ],
      "execution_count": null,
      "outputs": []
    },
    {
      "cell_type": "code",
      "metadata": {
        "id": "NvbvLRpEPybA"
      },
      "source": [
        "df_train['n_chunks'] = df_train.Text.apply(lambda x: len(x))\r\n",
        "df_val['n_chunks'] = df_val.Text.apply(lambda x: len(x))\r\n",
        "df_test['n_chunks'] = df_test.Text.apply(lambda x: len(x))"
      ],
      "execution_count": null,
      "outputs": []
    },
    {
      "cell_type": "markdown",
      "metadata": {
        "id": "Nr0BXEOzxe3n"
      },
      "source": [
        "Encode Labels"
      ]
    },
    {
      "cell_type": "code",
      "metadata": {
        "id": "pSW7fEsTe1zn"
      },
      "source": [
        "for df in [df_train, df_val, df_test]:\r\n",
        "    df.loc[df.Label=='POSITIVE','Label'] = 1\r\n",
        "    df.loc[df.Label=='NEGATIVE','Label'] = 0"
      ],
      "execution_count": null,
      "outputs": []
    },
    {
      "cell_type": "markdown",
      "metadata": {
        "id": "-ASeQs6fxTtb"
      },
      "source": [
        "Save train, val and test sets into files"
      ]
    },
    {
      "cell_type": "code",
      "metadata": {
        "id": "OANTabGMr6CI"
      },
      "source": [
        "df_train.to_csv(os.path.join(data_path,'train.csv'))\r\n",
        "df_val.to_csv(os.path.join(data_path,'val.csv'))\r\n",
        "df_test.to_csv(os.path.join(data_path,'test.csv'))"
      ],
      "execution_count": null,
      "outputs": []
    },
    {
      "cell_type": "markdown",
      "metadata": {
        "id": "AAKrx0q-xa5J"
      },
      "source": [
        "Examine the training dataset once more"
      ]
    },
    {
      "cell_type": "code",
      "metadata": {
        "colab": {
          "base_uri": "https://localhost:8080/",
          "height": 202
        },
        "id": "wElGljUYo2-r",
        "outputId": "00c7f56b-e5d8-4430-d407-8bafdb2f4996"
      },
      "source": [
        "df_train.head()"
      ],
      "execution_count": null,
      "outputs": [
        {
          "output_type": "execute_result",
          "data": {
            "text/html": [
              "<div>\n",
              "<style scoped>\n",
              "    .dataframe tbody tr th:only-of-type {\n",
              "        vertical-align: middle;\n",
              "    }\n",
              "\n",
              "    .dataframe tbody tr th {\n",
              "        vertical-align: top;\n",
              "    }\n",
              "\n",
              "    .dataframe thead th {\n",
              "        text-align: right;\n",
              "    }\n",
              "</style>\n",
              "<table border=\"1\" class=\"dataframe\">\n",
              "  <thead>\n",
              "    <tr style=\"text-align: right;\">\n",
              "      <th></th>\n",
              "      <th>Text</th>\n",
              "      <th>Label</th>\n",
              "      <th>n_chunks</th>\n",
              "    </tr>\n",
              "  </thead>\n",
              "  <tbody>\n",
              "    <tr>\n",
              "      <th>281</th>\n",
              "      <td>[Ko se posle očajnog prethodnika Terminator 3:...</td>\n",
              "      <td>0</td>\n",
              "      <td>3</td>\n",
              "    </tr>\n",
              "    <tr>\n",
              "      <th>717</th>\n",
              "      <td>[﻿Filmovi koji se bave moralnom degradacijom s...</td>\n",
              "      <td>1</td>\n",
              "      <td>3</td>\n",
              "    </tr>\n",
              "    <tr>\n",
              "      <th>1274</th>\n",
              "      <td>[Hirokazu Koreeda je režirao jedan od najbolji...</td>\n",
              "      <td>1</td>\n",
              "      <td>3</td>\n",
              "    </tr>\n",
              "    <tr>\n",
              "      <th>918</th>\n",
              "      <td>[U filmu Dead Man (Jarmusch, 1995), muzika Nei...</td>\n",
              "      <td>1</td>\n",
              "      <td>3</td>\n",
              "    </tr>\n",
              "    <tr>\n",
              "      <th>745</th>\n",
              "      <td>[Postoji li ili ne žanr strip-film i koliko je...</td>\n",
              "      <td>1</td>\n",
              "      <td>3</td>\n",
              "    </tr>\n",
              "  </tbody>\n",
              "</table>\n",
              "</div>"
            ],
            "text/plain": [
              "                                                   Text Label  n_chunks\n",
              "281   [Ko se posle očajnog prethodnika Terminator 3:...     0         3\n",
              "717   [﻿Filmovi koji se bave moralnom degradacijom s...     1         3\n",
              "1274  [Hirokazu Koreeda je režirao jedan od najbolji...     1         3\n",
              "918   [U filmu Dead Man (Jarmusch, 1995), muzika Nei...     1         3\n",
              "745   [Postoji li ili ne žanr strip-film i koliko je...     1         3"
            ]
          },
          "metadata": {
            "tags": []
          },
          "execution_count": 18
        }
      ]
    },
    {
      "cell_type": "markdown",
      "metadata": {
        "id": "Re_jc_pv2ZOl"
      },
      "source": [
        "## Complete Model architecture\r\n"
      ]
    },
    {
      "cell_type": "markdown",
      "metadata": {
        "id": "W3fGT-MUBOWG"
      },
      "source": [
        "![model_sa_MR_complete.png](data:image/png;base64,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)"
      ]
    },
    {
      "cell_type": "markdown",
      "metadata": {
        "id": "FcnSO7Nk2I4N"
      },
      "source": [
        "## Train functions\r\n",
        "\r\n"
      ]
    },
    {
      "cell_type": "markdown",
      "metadata": {
        "id": "xA9Dc9TeAV4g"
      },
      "source": [
        "Define custom dataset"
      ]
    },
    {
      "cell_type": "code",
      "metadata": {
        "id": "1o2k24F9YwCR"
      },
      "source": [
        "class MyDataset(Dataset):\r\n",
        "    def __init__(self,df):\r\n",
        "        self.n_chunks = df['n_chunks'].to_list()\r\n",
        "        self.X = df['Text'].to_list()\r\n",
        "        self.Y = df['Label']\r\n",
        "    def __len__(self):\r\n",
        "        return len(self.X)\r\n",
        "    def __getitem__(self,index):\r\n",
        "        return self.X[index], self.Y.iloc[index], self.n_chunks[index]\r\n",
        "def collate_func(batch):\r\n",
        "    X = [x[0] for x in batch]\r\n",
        "    Y = torch.Tensor([x[1] for x in batch])\r\n",
        "    c = [x[2] for x in batch]\r\n",
        "    return [X,Y,c]"
      ],
      "execution_count": null,
      "outputs": []
    },
    {
      "cell_type": "code",
      "metadata": {
        "id": "jiLgVZxtXpxQ"
      },
      "source": [
        "from sklearn.metrics import confusion_matrix\r\n",
        "\r\n",
        "def train_step(train_loader, tokenize, device, optimizer,scheduler, xlmr, classifier,logs,pooled_emb_do):\r\n",
        "    xlmr.train()\r\n",
        "    classifier.train()\r\n",
        "    iteration = 0\r\n",
        "    acc_sum=0\r\n",
        "    accuracy = []\r\n",
        "    losses = []\r\n",
        "    cms = []\r\n",
        "    for text, target, n_chunks in train_loader:\r\n",
        "        logs['lr'].append(get_lr(optimizer))\r\n",
        "        target = target.to(device)\r\n",
        "        flat_text = [item for sublist in text for item in sublist]\r\n",
        "        tokens = tokenize(flat_text)\r\n",
        "        tokens = tokens.to(device)\r\n",
        "        embeddings = xlmr.extract_features(tokens)\r\n",
        "        pooled_emb = torch.mean(embeddings, axis=1)\r\n",
        "        pooled_emb = nn.Dropout(pooled_emb_do)(pooled_emb)\r\n",
        "        # perform sum pooling\r\n",
        "        x = [s for s in torch.split(pooled_emb, n_chunks,dim=0)]\r\n",
        "        logit = classifier(x, n_chunks)\r\n",
        "        prob = torch.sigmoid(logit)\r\n",
        "        target = torch.reshape(target,shape=(-1,1))\r\n",
        "        loss = nn.BCELoss()(input=prob, target=target.float())\r\n",
        "        loss.backward()\r\n",
        "        optimizer.step()\r\n",
        "        if scheduler is not None:\r\n",
        "            scheduler.step()\r\n",
        "        optimizer.zero_grad()\r\n",
        "        # calculate accuracy\r\n",
        "        prob = torch.squeeze(prob)\r\n",
        "        prediction = torch.clone(prob)\r\n",
        "        prediction[prediction >= 0.5] = 1\r\n",
        "        prediction[prediction < 0.5] = 0\r\n",
        "        target = torch.squeeze(target)\r\n",
        "        acc = torch.sum(target==prediction)/float(len(target))\r\n",
        "        accuracy.append(float(acc))\r\n",
        "        losses.append(float(loss.detach().cpu().numpy()))\r\n",
        "        # calculate confusion matrix\r\n",
        "        cm = confusion_matrix(target.detach().cpu().numpy(),\r\n",
        "                              prediction.detach().cpu().numpy(),\r\n",
        "                              labels = np.array([0,1])\r\n",
        "                              )\r\n",
        "        cms.append(cm)\r\n",
        "        iteration+=1\r\n",
        "        print(f\"\\r iter: {iteration}/{len(train_loader)}\",end='')\r\n",
        "    return accuracy, losses, cms\r\n",
        "def val_step(val_loader, tokenize, device, xlmr, classifier, is_test=False):\r\n",
        "    print('')\r\n",
        "    print('Validating...')\r\n",
        "    xlmr.eval()\r\n",
        "    classifier.eval()\r\n",
        "    iteration = 0\r\n",
        "    accuracy = []\r\n",
        "    losses = []\r\n",
        "    cms = []\r\n",
        "    if is_test:\r\n",
        "        predictions,targets = [],[]\r\n",
        "    for text, target, n_chunks in val_loader:\r\n",
        "        target = target.to(device)\r\n",
        "        flat_text = [item for sublist in text for item in sublist]\r\n",
        "        tokens = tokenize(flat_text)\r\n",
        "        tokens = tokens.to(device)\r\n",
        "        with torch.no_grad():\r\n",
        "            embeddings = xlmr.extract_features(tokens)\r\n",
        "            pooled_emb = torch.mean(embeddings, axis=1)\r\n",
        "            # perform sum pooling\r\n",
        "            x = [s for s in torch.split(pooled_emb, n_chunks,dim=0)]\r\n",
        "            logit = classifier(x, n_chunks)\r\n",
        "            prob = torch.sigmoid(logit)\r\n",
        "        target = torch.reshape(target,shape=(-1,1))\r\n",
        "        loss = nn.BCELoss()(input=prob, target=target.float())\r\n",
        "        # calculate accuracy\r\n",
        "        prob = torch.squeeze(prob)\r\n",
        "        prediction = torch.clone(prob)\r\n",
        "        prediction[prediction >= 0.5] = 1\r\n",
        "        prediction[prediction < 0.5] = 0\r\n",
        "        target = torch.squeeze(target)\r\n",
        "        acc = torch.sum(target==prediction)/float(len(target))\r\n",
        "        accuracy.append(float(acc))\r\n",
        "        losses.append(float(loss.cpu().numpy()))\r\n",
        "        # calculate confusion matrix\r\n",
        "        cm = confusion_matrix(target.cpu().numpy(),\r\n",
        "                              prediction.cpu().numpy(),\r\n",
        "                              labels = np.array([0,1])\r\n",
        "                              )\r\n",
        "        cms.append(cm)\r\n",
        "        iteration+=1\r\n",
        "        print(f\"\\r iter: {iteration}/{len(val_loader)}\",end='')\r\n",
        "        if is_test:\r\n",
        "            predictions.append(prediction.cpu().numpy())\r\n",
        "            targets.append(target.cpu().numpy())\r\n",
        "    if is_test:\r\n",
        "        return accuracy, losses, cms, predictions, targets\r\n",
        "    return accuracy, losses, cms"
      ],
      "execution_count": null,
      "outputs": []
    },
    {
      "cell_type": "code",
      "metadata": {
        "id": "G2iqGdw2xdh6"
      },
      "source": [
        "def save_to_disk(txt_path, values):\r\n",
        "    if os.path.isfile(txt_path):\r\n",
        "        os.remove(txt_path)\r\n",
        "    with open(txt_path, \"wb\") as fp:   \r\n",
        "        pickle.dump(values, fp)\r\n",
        "    return\r\n",
        "def load_from_disk(txt_path):\r\n",
        "    with open(txt_path, \"rb\") as f:\r\n",
        "        values =  pickle.load(f)\r\n",
        "    return values\r\n",
        "def save_checkpoint(xlmr, classifier, optimizer, logs, checkpoint_dir, epoch):\r\n",
        "    print('')\r\n",
        "    print('Saving checkpoint...')\r\n",
        "    state_dict = {\r\n",
        "        'classifier':classifier.state_dict(),\r\n",
        "        'optimizer': optimizer.state_dict(),\r\n",
        "        'xlmr': xlmr.state_dict()\r\n",
        "    }\r\n",
        "    torch.save(state_dict, os.path.join(checkpoint_dir, 'checkpoint_{}.pt'.format(epoch)))\r\n",
        "    save_to_disk(os.path.join(checkpoint_dir, 'logs.txt'),logs)\r\n",
        "    print(f'Checkpoint saved!')\r\n",
        "def load_checkpoint(checkpoint_dir, epoch, xlmr, classifier, device, optimizer=None):\r\n",
        "    pretrained_dict = torch.load(os.path.join(checkpoint_dir,'checkpoint_{}.pt'.format(epoch)),map_location=torch.device(device))\r\n",
        "    classifier.load_state_dict(pretrained_dict['classifier'])\r\n",
        "    xlmr.load_state_dict(pretrained_dict['xlmr'])\r\n",
        "    if optimizer is not None:\r\n",
        "        optimizer.load_state_dict(pretrained_dict['optimizer'])\r\n",
        "        return xlmr, classifier, optimizer\r\n",
        "    return xlmr,classifier"
      ],
      "execution_count": null,
      "outputs": []
    },
    {
      "cell_type": "code",
      "metadata": {
        "id": "EFr8kWC3M8f8"
      },
      "source": [
        "def get_lr(optimizer):\r\n",
        "    for param_group in optimizer.param_groups:\r\n",
        "        return param_group['lr']\r\n",
        "def set_lr(optimizer, lr):\r\n",
        "    for param_group in optimizer.param_groups:\r\n",
        "        param_group['lr'] = lr"
      ],
      "execution_count": null,
      "outputs": []
    },
    {
      "cell_type": "code",
      "metadata": {
        "id": "ZtFcETs2sPe6"
      },
      "source": [
        "from torch.nn.utils.rnn import pad_sequence, pack_padded_sequence, pad_packed_sequence\r\n",
        "class Classifier(nn.Module):\r\n",
        "    def __init__(self, lstm_size, emb_dim, out_dim_lin, lstm_do):\r\n",
        "        super().__init__()\r\n",
        "        self.lstm = nn.LSTM(input_size=emb_dim, hidden_size=lstm_size, batch_first=True)\r\n",
        "        self.lstm_do = nn.Dropout(lstm_do)\r\n",
        "        self.linear = nn.Linear(in_features=lstm_size, out_features=out_dim_lin)\r\n",
        "    def forward(self, x, n_chunks):\r\n",
        "        x = pad_sequence(x, batch_first=True, padding_value=0)\r\n",
        "        x = pack_padded_sequence(input=x, lengths=n_chunks, batch_first=True, enforce_sorted=False)\r\n",
        "        x, _ = self.lstm(x)\r\n",
        "        x, _ = pad_packed_sequence(x, batch_first=True)\r\n",
        "        x = x[:,-1,:]\r\n",
        "        x = self.lstm_do(x)\r\n",
        "        logit = self.linear(x)\r\n",
        "        return logit"
      ],
      "execution_count": null,
      "outputs": []
    },
    {
      "cell_type": "markdown",
      "metadata": {
        "id": "u9AjISm0wNgU"
      },
      "source": [
        "## Hyperparameters"
      ]
    },
    {
      "cell_type": "code",
      "metadata": {
        "id": "VU6vlF2sXhVy"
      },
      "source": [
        "BATCH_SIZE = 2\r\n",
        "#TOKEN_MAX_LEN = 512 or 354\r\n",
        "EPOCHS = 100 # total number of epochs\r\n",
        "LR = 1e-7\r\n",
        "EMBEDDING_DIM = 768 # 768 for base and 1024 for large\r\n",
        "LSTM_SIZE = 128\r\n",
        "LSTM_DO = 0.2\r\n",
        "POOLED_EMB_DO = 0.3\r\n",
        "OUT_DIM_LIN = 1\r\n",
        "WEIGHT_DECAY = 1e-3\r\n",
        "#=============================\r\n",
        "# freeze xlmr hyperparams \r\n",
        "EPOCHS_FREEZE = 2\r\n",
        "NUM_WARMUP_EPOCHS_FREEZE = 1\r\n",
        "LR_FREEZE = 6e-5\r\n",
        "#=============================\r\n",
        "LR_LIN = 3e-6\r\n",
        "EPOCHS_LIN = 50"
      ],
      "execution_count": null,
      "outputs": []
    },
    {
      "cell_type": "code",
      "metadata": {
        "id": "D5qG2GaMdIG3"
      },
      "source": [
        "# define Data Loaders\r\n",
        "train_dataset = MyDataset(df_train)\r\n",
        "train_loader = DataLoader(dataset=train_dataset, batch_size=BATCH_SIZE, shuffle=True, collate_fn=collate_func)\r\n",
        "val_dataset = MyDataset(df_val)\r\n",
        "val_loader = DataLoader(dataset=val_dataset, batch_size=BATCH_SIZE, shuffle=False, collate_fn=collate_func)\r\n",
        "test_dataset = MyDataset(df_test)\r\n",
        "test_loader = DataLoader(dataset=test_dataset, batch_size=BATCH_SIZE, shuffle=False, collate_fn=collate_func)"
      ],
      "execution_count": null,
      "outputs": []
    },
    {
      "cell_type": "markdown",
      "metadata": {
        "id": "RjBy_NZawR-o"
      },
      "source": [
        "## Train loop"
      ]
    },
    {
      "cell_type": "code",
      "metadata": {
        "id": "ks9WeFB5LDVY"
      },
      "source": [
        "checkpoint_dir = os.path.join(os.getcwd(),'checkpoints')\r\n",
        "os.makedirs(checkpoint_dir, exist_ok=True)\r\n",
        "\r\n",
        "device = 'cuda' if torch.cuda.is_available() else 'cpu'\r\n",
        "print('Selected device is {}'.format(device))\r\n",
        "xlmr = xlmr.to(device)\r\n",
        "classifier = Classifier(lstm_size=LSTM_SIZE,\r\n",
        "                        emb_dim=EMBEDDING_DIM,\r\n",
        "                        out_dim_lin=OUT_DIM_LIN,\r\n",
        "                        lstm_do = LSTM_DO\r\n",
        "                        ).to(device)\r\n",
        "print('Number of trainable params: ',sum(p.numel() for p in xlmr.parameters())+\\\r\n",
        "      sum(p.numel() for p in classifier.parameters()))\r\n",
        "# define optimizer\r\n",
        "params = list(xlmr.parameters()) + list(classifier.parameters())\r\n",
        "# start with frozen XLMR model (it should be left in train mode)\r\n",
        "for p in xlmr.parameters():\r\n",
        "    p.requires_grad=False\r\n",
        "optimizer = SGD(params, lr=LR_FREEZE, weight_decay=WEIGHT_DECAY)\r\n",
        "# define learning rate scheduler\r\n",
        "scheduler = get_linear_schedule_with_warmup(\r\n",
        "    optimizer,\r\n",
        "    num_warmup_steps=NUM_WARMUP_EPOCHS_FREEZE*len(train_loader),\r\n",
        "    num_training_steps=EPOCHS_FREEZE*len(train_loader)\r\n",
        "    )\r\n",
        "# wrap tokenizer\r\n",
        "tokenize = wrap_tokenizer(tokenizer)\r\n",
        "logs = {'train_acc':[],'train_loss':[],\r\n",
        "        'val_acc':[],'val_loss':[], 'lr':[],\r\n",
        "        'train_cm':[],'val_cm':[]}\r\n",
        "for epoch in range(EPOCHS):\r\n",
        "    if epoch == EPOCHS_FREEZE:\r\n",
        "        print('XLM-R model is unfrozen!')\r\n",
        "        print(f'Learning rate is set to {LR_LIN}!')\r\n",
        "        for p in xlmr.parameters():\r\n",
        "             p.requires_grad=True\r\n",
        "        optimizer = AdamW(params, lr=LR_LIN, weight_decay=WEIGHT_DECAY)\r\n",
        "        scheduler = None\r\n",
        "    if epoch == EPOCHS_FREEZE + EPOCHS_LIN:\r\n",
        "        print(f'Learning rate is set to {LR}!')\r\n",
        "        set_lr(optimizer, LR)\r\n",
        "        scheduler = None\r\n",
        "    train_acc, train_loss, train_cm = train_step(\r\n",
        "        train_loader=train_loader,\r\n",
        "        tokenize=tokenize, \r\n",
        "        device=device, \r\n",
        "        optimizer=optimizer, \r\n",
        "        scheduler=scheduler,\r\n",
        "        xlmr=xlmr,\r\n",
        "        classifier=classifier,\r\n",
        "        logs=logs,\r\n",
        "        pooled_emb_do = POOLED_EMB_DO\r\n",
        "        )\r\n",
        "    val_acc, val_loss, val_cm = val_step(\r\n",
        "        val_loader=val_loader,\r\n",
        "        tokenize=tokenize, \r\n",
        "        device=device, \r\n",
        "        xlmr=xlmr,\r\n",
        "        classifier=classifier\r\n",
        "        )\r\n",
        "    logs['train_acc'] += train_acc\r\n",
        "    logs['train_loss'] += train_loss\r\n",
        "    logs['val_acc'] += val_acc\r\n",
        "    logs['val_loss'] += val_loss\r\n",
        "    logs['train_cm'] += train_cm\r\n",
        "    logs['val_cm'] += val_cm \r\n",
        "    if epoch % 2 == 0 and epoch != 0 :\r\n",
        "        save_checkpoint(\r\n",
        "            xlmr=xlmr,\r\n",
        "            classifier=classifier, \r\n",
        "            optimizer=optimizer, \r\n",
        "            logs=logs, \r\n",
        "            checkpoint_dir=checkpoint_dir, \r\n",
        "            epoch=epoch\r\n",
        "            )\r\n",
        "    print('')\r\n",
        "    print(f\"Epoch {epoch} --> loss:{mean(train_loss):.4f},\\\r\n",
        "        acc:{mean(train_acc):.2f}%,\\\r\n",
        "        val_loss:{mean(val_loss):.4f},\\\r\n",
        "        val_acc:{mean(val_acc):.2f}%\\\r\n",
        "        \\ntrain_cm:\\n {np.mean(train_cm, axis=0)}\\\r\n",
        "        \\nval_cm:\\n {np.mean(val_cm,axis=0)}\\\r\n",
        "        \")"
      ],
      "execution_count": null,
      "outputs": []
    },
    {
      "cell_type": "code",
      "metadata": {
        "id": "zlWyquDWiBdn"
      },
      "source": [
        "torch.cuda.empty_cache()"
      ],
      "execution_count": null,
      "outputs": []
    },
    {
      "cell_type": "markdown",
      "metadata": {
        "id": "DkuR7bsb06pA"
      },
      "source": [
        "## Test"
      ]
    },
    {
      "cell_type": "markdown",
      "metadata": {
        "id": "-zG2R5K7CQdl"
      },
      "source": [
        "### Load pretrained weights"
      ]
    },
    {
      "cell_type": "code",
      "metadata": {
        "id": "5eLsBC-X09Yt"
      },
      "source": [
        "import os\r\n",
        "import pandas as pd\r\n",
        "import numpy as np \r\n",
        "from ast import literal_eval\r\n",
        "from sklearn.metrics import confusion_matrix\r\n",
        "import seaborn as sn\r\n",
        "import matplotlib.pyplot as plt\r\n",
        "\r\n",
        "# load pretrained weights\r\n",
        "device = 'cuda' if torch.cuda.is_available() else 'cpu'\r\n",
        "checkpoint_dir = os.path.join(os.getcwd(),'checkpoints')\r\n",
        "best_dir = os.path.join(checkpoint_dir,'best-MR')\r\n",
        "classifier = Classifier(LSTM_SIZE,EMBEDDING_DIM, OUT_DIM_LIN, LSTM_DO)\r\n",
        "xlmr, classifier = load_checkpoint(best_dir,16,xlmr,classifier,device)"
      ],
      "execution_count": null,
      "outputs": []
    },
    {
      "cell_type": "markdown",
      "metadata": {
        "id": "ePfSInX1CUd-"
      },
      "source": [
        "### Load test set and pretrained weights"
      ]
    },
    {
      "cell_type": "code",
      "metadata": {
        "id": "wwpd7oxi74nE"
      },
      "source": [
        "# load test set\r\n",
        "df_test = pd.read_csv(os.path.join(best_dir,'test.csv'))\r\n",
        "df_test.drop(columns='Unnamed: 0', inplace=True)\r\n",
        "df_test.Text = df_test.Text.apply(lambda x: literal_eval(x))\r\n",
        "test_dataset = MyDataset(df_test)\r\n",
        "test_loader = DataLoader(dataset=test_dataset, batch_size=BATCH_SIZE, shuffle=False, collate_fn=collate_func)"
      ],
      "execution_count": null,
      "outputs": []
    },
    {
      "cell_type": "markdown",
      "metadata": {
        "id": "nCGdLLQa4qNW"
      },
      "source": [
        "### Test accuracy"
      ]
    },
    {
      "cell_type": "code",
      "metadata": {
        "id": "3ksxT0i45c8n",
        "colab": {
          "base_uri": "https://localhost:8080/"
        },
        "outputId": "50072ad6-f68e-411d-e1c9-bded4c9bb1c9"
      },
      "source": [
        "tokenize = wrap_tokenizer(tokenizer)\r\n",
        "classifier = classifier.to(device)\r\n",
        "xlmr = xlmr.to(device)\r\n",
        "test_acc, test_loss,cms, predictions, targets = val_step(\r\n",
        "        val_loader=test_loader,\r\n",
        "        tokenize=tokenize, \r\n",
        "        device=device, \r\n",
        "        xlmr=xlmr,\r\n",
        "        classifier=classifier,\r\n",
        "        is_test=True\r\n",
        "        )\r\n",
        "print('')\r\n",
        "print(f\"test loss:{mean(test_loss):.4f}\\n test acc:{mean(test_acc):.2f}%\")"
      ],
      "execution_count": null,
      "outputs": [
        {
          "output_type": "stream",
          "text": [
            "\n",
            "Validating...\n",
            " iter: 84/84\n",
            "test loss:0.4466\n",
            " test acc:0.79%\n"
          ],
          "name": "stdout"
        }
      ]
    },
    {
      "cell_type": "markdown",
      "metadata": {
        "id": "GS-LKm72sGbj"
      },
      "source": [
        "State of the art result (86.11% cross-validation accuracy) for this task on the sam dataset can be found [here](https://scindeks-clanci.ceon.rs/data/pdf/1821-3251/2017/1821-32511702104B.pdf). I believe that this score can be achieved with better tweaking of hyperparameters (in which I have not invested much time) and XLM-R large model. Also you have to keep in mind that the test score depends on sentiment intensity of examples in the test set. This is shown below."
      ]
    },
    {
      "cell_type": "markdown",
      "metadata": {
        "id": "vsbR6z19zWkQ"
      },
      "source": [
        "### Plot confusion matrix"
      ]
    },
    {
      "cell_type": "code",
      "metadata": {
        "colab": {
          "base_uri": "https://localhost:8080/",
          "height": 273
        },
        "id": "IguKoV6yFVPx",
        "outputId": "fa58ba67-20e2-4a85-e8c3-8a9fbada0871"
      },
      "source": [
        "preds = np.concatenate(predictions)\r\n",
        "labels = np.concatenate(targets)\r\n",
        "\r\n",
        "from sklearn.metrics import confusion_matrix\r\n",
        "import seaborn as sn\r\n",
        "\r\n",
        "cm = confusion_matrix(labels, preds)\r\n",
        "names = ['negative', 'positive']\r\n",
        "df_cm = pd.DataFrame(cm, index=names, columns=names)\r\n",
        "sn.set(font_scale=1.4) # for label size\r\n",
        "sn.heatmap(df_cm, annot=True, annot_kws={\"size\": 16}) # font size\r\n",
        "plt.show()"
      ],
      "execution_count": null,
      "outputs": [
        {
          "output_type": "display_data",
          "data": {
            "image/png": "[encoded data removed]",
            "text/plain": [
              "<Figure size 432x288 with 2 Axes>"
            ]
          },
          "metadata": {
            "tags": []
          }
        }
      ]
    },
    {
      "cell_type": "markdown",
      "metadata": {
        "id": "71zYI8s0SDnp"
      },
      "source": [
        "### Examine the influence of weak sentiment on wrong classification."
      ]
    },
    {
      "cell_type": "code",
      "metadata": {
        "id": "gs6j7ZL68BrI"
      },
      "source": [
        "# find the Scores in the original .csv file\r\n",
        "df_orig = pd.read_csv(os.path.join(movies_path,'MR.csv'))\r\n",
        "df_test['Mark'] = None\r\n",
        "for i in range(len(df_test)):\r\n",
        "    text = df_test.Text.iloc[i][0][:50]\r\n",
        "    found = False\r\n",
        "    for j in range(len(df_orig)):\r\n",
        "        if text in df_orig.Text.iloc[j]:\r\n",
        "            mark_id = df_test.columns.get_loc('Mark') \r\n",
        "            df_test.iloc[i,mark_id] = df_orig.Mark.iloc[j]\r\n",
        "            found = True\r\n",
        "            break  \r\n",
        "    if not found:\r\n",
        "        mark_id = df_test.columns.get_loc('Mark') \r\n",
        "        df_test.iloc[i,mark_id] = 0"
      ],
      "execution_count": null,
      "outputs": []
    },
    {
      "cell_type": "code",
      "metadata": {
        "colab": {
          "base_uri": "https://localhost:8080/",
          "height": 333
        },
        "id": "KHtIN6q_Nrrn",
        "outputId": "8bc8074c-9524-4d4f-ae33-6861f5c7b225"
      },
      "source": [
        "height = df_test.loc[preds!=labels,'Mark'].value_counts()\r\n",
        "height = height.to_dict()\r\n",
        "values = np.arange(1,11)\r\n",
        "for value in values:\r\n",
        "    if value not in height.keys():\r\n",
        "        height[value] = 0\r\n",
        "del height[0]\r\n",
        "plt.xlabel('Score')\r\n",
        "plt.ylabel('Number of examples')\r\n",
        "plt.xticks(values)\r\n",
        "plt.title('Number of wrongly classified examples per Score')\r\n",
        "plt.bar(height.keys(), height=height.values())\r\n",
        "plt.axvline(x=4.5, linewidth=4, color='black')\r\n",
        "plt.axvline(x=6.5, linewidth=4, color='black')\r\n",
        "plt.text(8, 7.5, 'Positive', color='blue', \r\n",
        "        bbox=dict(facecolor='none', edgecolor='black', boxstyle='round,pad=1'),\r\n",
        "        fontsize=10)\r\n",
        "plt.text(4.875, 7.5, 'Neutral', color='black', \r\n",
        "        bbox=dict(facecolor='none', edgecolor='black', boxstyle='round,pad=1'),\r\n",
        "        fontsize=10)\r\n",
        "plt.text(1, 7.5, 'Negative', color='red', \r\n",
        "        bbox=dict(facecolor='none', edgecolor='black', boxstyle='round,pad=1'),\r\n",
        "        fontsize=10)\r\n",
        "print('')"
      ],
      "execution_count": null,
      "outputs": [
        {
          "output_type": "stream",
          "text": [
            "\n"
          ],
          "name": "stdout"
        },
        {
          "output_type": "display_data",
          "data": {
            "image/png": "[encoded data removed]",
            "text/plain": [
              "<Figure size 432x288 with 1 Axes>"
            ]
          },
          "metadata": {
            "tags": []
          }
        }
      ]
    },
    {
      "cell_type": "markdown",
      "metadata": {
        "id": "1N7WfTeORp18"
      },
      "source": [
        "We can see that most of the wrongly classified examples have weak sentiment (score close to 5 and 6)."
      ]
    },
    {
      "cell_type": "markdown",
      "metadata": {
        "id": "ekq8jXQPCdzu"
      },
      "source": [
        "### Show training curves"
      ]
    },
    {
      "cell_type": "code",
      "metadata": {
        "id": "mRq5EhA4CmM9"
      },
      "source": [
        "SHOW_EPOCHS = 17\r\n",
        "\r\n",
        "logs = load_from_disk(os.path.join(best_dir,'logs.txt'))"
      ],
      "execution_count": null,
      "outputs": []
    },
    {
      "cell_type": "code",
      "metadata": {
        "id": "DDg-trlL8Fat"
      },
      "source": [
        "def average(data, frequency, start_avg_point=0):\r\n",
        "    average_data = []\r\n",
        "    if (len(data) > start_avg_point):\r\n",
        "        round_num = -(len(str(frequency))-1)\r\n",
        "        for i in range(0,round(len(data),round_num)-frequency,frequency):\r\n",
        "            avg_data=mean(data[i:i+frequency])\r\n",
        "            average_data.append(avg_data)\r\n",
        "    return average_data"
      ],
      "execution_count": null,
      "outputs": []
    },
    {
      "cell_type": "code",
      "metadata": {
        "id": "fusyUA0hENhr"
      },
      "source": [
        "train_acc = average(logs['train_acc'],677)[:SHOW_EPOCHS]\r\n",
        "val_acc = average(logs['val_acc'],84)[:SHOW_EPOCHS]\r\n",
        "lr = logs['lr'][:677*(SHOW_EPOCHS-1)]"
      ],
      "execution_count": null,
      "outputs": []
    },
    {
      "cell_type": "markdown",
      "metadata": {
        "id": "_Mrq4rSqzazW"
      },
      "source": [
        "Show accuracy through epochs"
      ]
    },
    {
      "cell_type": "code",
      "metadata": {
        "colab": {
          "base_uri": "https://localhost:8080/",
          "height": 333
        },
        "id": "p7QTLTMz8FlB",
        "outputId": "c9b2ad4b-442c-4c8e-93a9-08c9343ac9b5"
      },
      "source": [
        "plt.plot(train_acc)\r\n",
        "plt.plot(val_acc)\r\n",
        "plt.title('Training curves')\r\n",
        "plt.xlabel('epoch')\r\n",
        "plt.legend(['train_acc','val_acc'])\r\n",
        "print('')"
      ],
      "execution_count": null,
      "outputs": [
        {
          "output_type": "stream",
          "text": [
            "\n"
          ],
          "name": "stdout"
        },
        {
          "output_type": "display_data",
          "data": {
            "image/png": "[encoded data removed]",
            "text/plain": [
              "<Figure size 432x288 with 1 Axes>"
            ]
          },
          "metadata": {
            "tags": []
          }
        }
      ]
    },
    {
      "cell_type": "code",
      "metadata": {
        "colab": {
          "base_uri": "https://localhost:8080/",
          "height": 321
        },
        "id": "DJUhJSNw_BRq",
        "outputId": "e791585b-afcf-4ba6-a31b-4c9aadf2e185"
      },
      "source": [
        "fig = plt.figure()\r\n",
        "ax = fig.add_subplot(1, 1, 1)\r\n",
        "ax.plot(lr)\r\n",
        "ax.set_title('Learning rate',fontsize=15)\r\n",
        "minor_ticks = np.arange(-1, 677*SHOW_EPOCHS, 677)\r\n",
        "ax.set_xticks(minor_ticks, minor=True)\r\n",
        "ax.set_xticklabels(labels=range(0,17),minor=True)\r\n",
        "ax.grid(which='minor', alpha=0.7)\r\n",
        "xax = ax.get_xaxis()\r\n",
        "ax.set_xlabel('global step\\nepoch',labelpad=-25,horizontalalignment='right', x=-0.02, fontsize=12)\r\n",
        "xax.set_tick_params(which='minor', pad=17,labelsize=12)\r\n",
        "xax.set_tick_params(which='major',labelsize=12)\r\n",
        "ax.get_yaxis().set_tick_params(labelsize=12)\r\n",
        "ax.axvline(x=2*677, linewidth=4, color='black')\r\n",
        "ax.text(0, 4e-5, 'Frozen', color='black', \r\n",
        "        bbox=dict(facecolor='none', edgecolor='black', boxstyle='round,pad=1'),\r\n",
        "        fontsize=12)\r\n",
        "ax.text(6000, 4e-5, 'Fine-Tuning', color='black', \r\n",
        "        bbox=dict(facecolor='none', edgecolor='black', boxstyle='round,pad=1'),\r\n",
        "        fontsize=12)\r\n",
        "print('')"
      ],
      "execution_count": null,
      "outputs": [
        {
          "output_type": "stream",
          "text": [
            "\n"
          ],
          "name": "stdout"
        },
        {
          "output_type": "display_data",
          "data": {
            "image/png": "[encoded data removed]",
            "text/plain": [
              "<Figure size 432x288 with 1 Axes>"
            ]
          },
          "metadata": {
            "tags": []
          }
        }
      ]
    },
    {
      "cell_type": "code",
      "metadata": {
        "colab": {
          "base_uri": "https://localhost:8080/",
          "height": 323
        },
        "id": "VLz_Uz_ADCof",
        "outputId": "69d7279b-6d31-4f1a-fd05-25e116d2f3e1"
      },
      "source": [
        "fig = plt.figure()\r\n",
        "ax1=fig.add_subplot(111, label=\"1\")\r\n",
        "l1,=ax1.plot(train_acc,color='blue')\r\n",
        "l2,=ax1.plot(val_acc,color='orange')\r\n",
        "ax1.legend(['train acc','val_acc'],loc='lower right',fontsize=12)\r\n",
        "ax=fig.add_subplot(111, label=\"3\",frame_on=False)\r\n",
        "ax.plot(lr, color='black')\r\n",
        "ax.set_title('Training curves')\r\n",
        "#ax.set_xlabel('epoch')\r\n",
        "ax.set_xticklabels([])\r\n",
        "ax.set_yticklabels([])\r\n",
        "ax.set_xticks([])\r\n",
        "ax.set_yticks([])\r\n",
        "ax.legend(['learning rate'],loc='upper left',fontsize=12)\r\n",
        "plt.xlabel('epoch',labelpad=20)\r\n",
        "print('')"
      ],
      "execution_count": null,
      "outputs": [
        {
          "output_type": "stream",
          "text": [
            "\n"
          ],
          "name": "stdout"
        },
        {
          "output_type": "display_data",
          "data": {
            "image/png": "[encoded data removed]",
            "text/plain": [
              "<Figure size 432x288 with 2 Axes>"
            ]
          },
          "metadata": {
            "tags": []
          }
        }
      ]
    }
  ]
}